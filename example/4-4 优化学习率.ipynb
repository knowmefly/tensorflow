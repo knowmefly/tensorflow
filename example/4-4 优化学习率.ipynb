{
 "cells": [
  {
   "cell_type": "code",
   "execution_count": 1,
   "metadata": {},
   "outputs": [
    {
     "name": "stderr",
     "output_type": "stream",
     "text": [
      "/usr/lib/python3.5/importlib/_bootstrap.py:222: RuntimeWarning: numpy.dtype size changed, may indicate binary incompatibility. Expected 96, got 88\n",
      "  return f(*args, **kwds)\n",
      "/usr/lib/python3.5/importlib/_bootstrap.py:222: RuntimeWarning: numpy.dtype size changed, may indicate binary incompatibility. Expected 96, got 88\n",
      "  return f(*args, **kwds)\n",
      "/usr/lib/python3.5/importlib/_bootstrap.py:222: RuntimeWarning: numpy.dtype size changed, may indicate binary incompatibility. Expected 96, got 88\n",
      "  return f(*args, **kwds)\n",
      "/usr/lib/python3.5/importlib/_bootstrap.py:222: RuntimeWarning: numpy.dtype size changed, may indicate binary incompatibility. Expected 96, got 88\n",
      "  return f(*args, **kwds)\n"
     ]
    }
   ],
   "source": [
    "import tensorflow as tf\n",
    "from tensorflow.examples.tutorials.mnist import input_data"
   ]
  },
  {
   "cell_type": "code",
   "execution_count": 6,
   "metadata": {},
   "outputs": [
    {
     "name": "stdout",
     "output_type": "stream",
     "text": [
      "Extracting data/MNIST_data/train-images-idx3-ubyte.gz\n",
      "Extracting data/MNIST_data/train-labels-idx1-ubyte.gz\n",
      "Extracting data/MNIST_data/t10k-images-idx3-ubyte.gz\n",
      "Extracting data/MNIST_data/t10k-labels-idx1-ubyte.gz\n",
      "Iter 0,Testing Accuracy 0.9287,Training Accuracy 0.92989093learn_step:0.001\n",
      "Iter 1,Testing Accuracy 0.9411,Training Accuracy 0.9424learn_step:0.00095\n",
      "Iter 2,Testing Accuracy 0.9484,Training Accuracy 0.9526727learn_step:0.0009025\n",
      "Iter 3,Testing Accuracy 0.9539,Training Accuracy 0.95821816learn_step:0.000857375\n",
      "Iter 4,Testing Accuracy 0.9543,Training Accuracy 0.9602364learn_step:0.00081450626\n",
      "Iter 5,Testing Accuracy 0.9552,Training Accuracy 0.96294546learn_step:0.0007737809\n",
      "Iter 6,Testing Accuracy 0.9581,Training Accuracy 0.9679818learn_step:0.0007350919\n",
      "Iter 7,Testing Accuracy 0.9598,Training Accuracy 0.9702learn_step:0.0006983373\n",
      "Iter 8,Testing Accuracy 0.9615,Training Accuracy 0.9708learn_step:0.0006634204\n",
      "Iter 9,Testing Accuracy 0.9651,Training Accuracy 0.9741091learn_step:0.0006302494\n",
      "Iter 10,Testing Accuracy 0.9657,Training Accuracy 0.9747818learn_step:0.0005987369\n",
      "Iter 11,Testing Accuracy 0.9656,Training Accuracy 0.9764182learn_step:0.0005688001\n",
      "Iter 12,Testing Accuracy 0.965,Training Accuracy 0.97565454learn_step:0.0005403601\n",
      "Iter 13,Testing Accuracy 0.9686,Training Accuracy 0.97892725learn_step:0.0005133421\n",
      "Iter 14,Testing Accuracy 0.9667,Training Accuracy 0.9788learn_step:0.000487675\n",
      "Iter 15,Testing Accuracy 0.9676,Training Accuracy 0.9801818learn_step:0.00046329122\n",
      "Iter 16,Testing Accuracy 0.9695,Training Accuracy 0.9813273learn_step:0.00044012666\n",
      "Iter 17,Testing Accuracy 0.9692,Training Accuracy 0.98121816learn_step:0.00041812033\n",
      "Iter 18,Testing Accuracy 0.9693,Training Accuracy 0.9828182learn_step:0.00039721432\n",
      "Iter 19,Testing Accuracy 0.9687,Training Accuracy 0.9831273learn_step:0.0003773536\n",
      "Iter 20,Testing Accuracy 0.9708,Training Accuracy 0.9833818learn_step:0.00035848594\n"
     ]
    }
   ],
   "source": [
    "#载入数据集\n",
    "mnist = input_data.read_data_sets(\"data/MNIST_data\",one_hot=True)\n",
    "\n",
    "#每个批次的大小\n",
    "batch_size = 100\n",
    "#计算一共有多少个批次\n",
    "n_batch = mnist.train.num_examples // batch_size\n",
    "\n",
    "#定义两个placeholder\n",
    "x = tf.placeholder(tf.float32,[None,784])\n",
    "y = tf.placeholder(tf.float32,[None,10])\n",
    "keep_prob = tf.placeholder(tf.float32)\n",
    "lr = tf.Variable(0.001, dtype=tf.float32)\n",
    "\n",
    "\n",
    "#创建一个简单的神经网络\n",
    "W1 = tf.Variable(tf.truncated_normal([784,500],stddev=0.1))\n",
    "b1 = tf.Variable(tf.zeros([500])+0.1)\n",
    "L1 = tf.nn.tanh(tf.matmul(x,W1)+b1)\n",
    "L1_drop = tf.nn.dropout(L1,keep_prob)\n",
    "\n",
    "W2 = tf.Variable(tf.truncated_normal([500,300],stddev=0.1))\n",
    "b2 = tf.Variable(tf.zeros([300])+0.1)\n",
    "L2 = tf.nn.tanh(tf.matmul(L1_drop,W2)+b2)\n",
    "L2_drop = tf.nn.dropout(L2,keep_prob)\n",
    "\n",
    "W3 = tf.Variable(tf.truncated_normal([300,10],stddev=0.1))\n",
    "b3 = tf.Variable(tf.zeros([10])+0.1)\n",
    "prediction = tf.nn.softmax(tf.matmul(L2_drop,W3)+b3)\n",
    "\n",
    "#二次代价函数\n",
    "# loss = tf.reduce_mean(tf.square(y-prediction))\n",
    "loss = tf.reduce_mean(tf.nn.softmax_cross_entropy_with_logits(labels=y,logits=prediction))\n",
    "#使用梯度下降法\n",
    "train_step = tf.train.AdamOptimizer(lr).minimize(loss)\n",
    "\n",
    "#初始化变量\n",
    "init = tf.global_variables_initializer()\n",
    "\n",
    "#结果存放在一个布尔型列表中\n",
    "correct_prediction = tf.equal(tf.argmax(y,1),tf.argmax(prediction,1))#argmax返回一维张量中最大的值所在的位置\n",
    "#求准确率\n",
    "accuracy = tf.reduce_mean(tf.cast(correct_prediction,tf.float32))\n",
    "\n",
    "with tf.Session() as sess:\n",
    "    sess.run(init)\n",
    "    for epoch in range(21):\n",
    "        sess.run(tf.assign(lr, 0.001 * (0.95 ** epoch)))\n",
    "        for batch in range(n_batch):\n",
    "            batch_xs,batch_ys =  mnist.train.next_batch(batch_size)\n",
    "            sess.run(train_step,feed_dict={x:batch_xs,y:batch_ys,keep_prob:0.7})\n",
    "        \n",
    "        learn_step = sess.run(lr)\n",
    "        test_acc = sess.run(accuracy,feed_dict={x:mnist.test.images,y:mnist.test.labels,keep_prob:0.7})\n",
    "        train_acc = sess.run(accuracy,feed_dict={x:mnist.train.images,y:mnist.train.labels,keep_prob:0.7})\n",
    "        print(\"Iter \" + str(epoch) + \",Testing Accuracy \" + str(test_acc)+\",Training Accuracy \"+str(train_acc) +\"learn_step:\"+ str(learn_step))"
   ]
  },
  {
   "cell_type": "markdown",
   "metadata": {},
   "source": []
  }
 ],
 "metadata": {
  "kernelspec": {
   "display_name": "Python 3",
   "language": "python",
   "name": "python3"
  },
  "language_info": {
   "codemirror_mode": {
    "name": "ipython",
    "version": 3
   },
   "file_extension": ".py",
   "mimetype": "text/x-python",
   "name": "python",
   "nbconvert_exporter": "python",
   "pygments_lexer": "ipython3",
   "version": "3.5.2"
  }
 },
 "nbformat": 4,
 "nbformat_minor": 2
}
